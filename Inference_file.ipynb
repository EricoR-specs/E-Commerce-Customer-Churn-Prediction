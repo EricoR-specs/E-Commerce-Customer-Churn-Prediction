{
 "cells": [
  {
   "cell_type": "markdown",
   "metadata": {},
   "source": [
    "# save model yang udah dibuat\n"
   ]
  },
  {
   "cell_type": "code",
   "execution_count": 13,
   "metadata": {},
   "outputs": [],
   "source": [
    "import pandas as pd\n",
    "import pickle\n",
    "import json"
   ]
  },
  {
   "cell_type": "code",
   "execution_count": 14,
   "metadata": {},
   "outputs": [],
   "source": [
    "with open('model_XGBoost.pkl', 'rb') as file_1:\n",
    "    clf = pickle.load(file_1)\n",
    "\n",
    "with open('data_model.txt', 'r') as file_2:\n",
    "    features = json.load(file_2)"
   ]
  },
  {
   "cell_type": "code",
   "execution_count": 15,
   "metadata": {},
   "outputs": [
    {
     "data": {
      "text/plain": [
       "['avg_frequency_login_days',\n",
       " 'avg_transaction_value',\n",
       " 'points_in_wallet',\n",
       " 'last_visit_time',\n",
       " 'membership_category',\n",
       " 'preferred_offer_types',\n",
       " 'feedback',\n",
       " 'sentiment']"
      ]
     },
     "execution_count": 15,
     "metadata": {},
     "output_type": "execute_result"
    }
   ],
   "source": [
    "features"
   ]
  },
  {
   "cell_type": "code",
   "execution_count": 16,
   "metadata": {},
   "outputs": [
    {
     "name": "stdout",
     "output_type": "stream",
     "text": [
      "                            customer_id         Name  age gender security_no  \\\n",
      "0      fffe4300490044003100390032003601     John Doe   30      M     1F2TCL4   \n",
      "1  fffe43004900440036003000330031003601   Jane Smith   25      F     VJGJ33O   \n",
      "2  fffe43004900440031003900350030003602  Bob Johnson   40      M     SVZXCWC   \n",
      "\n",
      "  region_category membership_category joining_date joined_through_referral  \\\n",
      "0            City    Basic Membership   2018-01-01                     Yes   \n",
      "1            Town       No Membership   2019-06-01                      No   \n",
      "2            City    Basic Membership   2020-03-01                     Yes   \n",
      "\n",
      "  referral_id  ... avg_frequency_login_days points_in_wallet  \\\n",
      "0    CID12314  ...                     15.0            400.8   \n",
      "1    xxxxxxxx  ...                     10.0            300.9   \n",
      "2    CID35063  ...                     20.0            500.9   \n",
      "\n",
      "  used_special_discount offer_application_preference  past_complaint  \\\n",
      "0                   Yes                          Yes             Yes   \n",
      "1                    No                          Yes             Yes   \n",
      "2                   Yes                          Yes              No   \n",
      "\n",
      "   complaint_status             feedback  \\\n",
      "0          Unsolved  No reason specified   \n",
      "1            Solved  Por Product Quality   \n",
      "2            Solved         Too many ads   \n",
      "\n",
      "                                content                               summary  \\\n",
      "0  Good product, but delivery was late.  Good product, but delivery was late.   \n",
      "1          Product was not as expected.          Product was not as expected.   \n",
      "2   Good product, but website was slow.   Good product, but website was slow.   \n",
      "\n",
      "  sentiment  \n",
      "0         0  \n",
      "1         0  \n",
      "2         0  \n",
      "\n",
      "[3 rows x 27 columns]\n"
     ]
    }
   ],
   "source": [
    "\n",
    "\n",
    "data = [\n",
    "    {\n",
    "        \"customer_id\": \"fffe4300490044003100390032003601\",\n",
    "        \"Name\": \"John Doe\",\n",
    "        \"age\": 30,\n",
    "        \"gender\": \"M\",\n",
    "        \"security_no\": \"1F2TCL4\",\n",
    "        \"region_category\": \"City\",\n",
    "        \"membership_category\": \"Basic Membership\",\n",
    "        \"joining_date\": \"2018-01-01\",\n",
    "        \"joined_through_referral\": \"Yes\",\n",
    "        \"referral_id\": \"CID12314\",\n",
    "        \"preferred_offer_types\": \"Gift Vouchers/Coupons\",\n",
    "        \"medium_of_operation\": \"Desktop\",\n",
    "        \"internet_option\": \"Wi-Fi\",\n",
    "        \"last_visit_time\": \"12:00:00\",\n",
    "        \"days_since_last_login\": 10,\n",
    "        \"avg_time_spent\": 300.50,\n",
    "        \"avg_transaction_value\": 20000.0,\n",
    "        \"avg_frequency_login_days\": 15.0,\n",
    "        \"points_in_wallet\": 400.80,\n",
    "        \"used_special_discount\": \"Yes\",\n",
    "        \"offer_application_preference\": \"Yes\",\n",
    "        \"past_complaint\": \"Yes\",\n",
    "        \"complaint_status\": \"Unsolved\",\n",
    "        \"feedback\": \"No reason specified\",\n",
    "        \"content\": \"Good product, but delivery was late.\",\n",
    "        \"summary\": \"Good product, but delivery was late.\",\n",
    "        \"sentiment\": 0\n",
    "    },\n",
    "    {\n",
    "        \"customer_id\": \"fffe43004900440036003000330031003601\",\n",
    "        \"Name\": \"Jane Smith\",\n",
    "        \"age\": 25,\n",
    "        \"gender\": \"F\",\n",
    "        \"security_no\": \"VJGJ33O\",\n",
    "        \"region_category\": \"Town\",\n",
    "        \"membership_category\": \"No Membership\",\n",
    "        \"joining_date\": \"2019-06-01\",\n",
    "        \"joined_through_referral\": \"No\",\n",
    "        \"referral_id\": \"xxxxxxxx\",\n",
    "        \"preferred_offer_types\": \"Credit/Debit Card Offers\",\n",
    "        \"medium_of_operation\": \"Smartphone\",\n",
    "        \"internet_option\": \"Mobile_Data\",\n",
    "        \"last_visit_time\": \"18:00:00\",\n",
    "        \"days_since_last_login\": 5,\n",
    "        \"avg_time_spent\": 200.20,\n",
    "        \"avg_transaction_value\": 15000.0,\n",
    "        \"avg_frequency_login_days\": 10.0,\n",
    "        \"points_in_wallet\": 300.90,\n",
    "        \"used_special_discount\": \"No\",\n",
    "        \"offer_application_preference\": \"Yes\",\n",
    "        \"past_complaint\": \"Yes\",\n",
    "        \"complaint_status\": \"Solved\",\n",
    "        \"feedback\": \"Por Product Quality\",\n",
    "        \"content\": \"Product was not as expected.\",\n",
    "        \"summary\": \"Product was not as expected.\",\n",
    "        \"sentiment\": 0\n",
    "    },\n",
    "    {\n",
    "        \"customer_id\": \"fffe43004900440031003900350030003602\",\n",
    "        \"Name\": \"Bob Johnson\",\n",
    "        \"age\": 40,\n",
    "        \"gender\": \"M\",\n",
    "        \"security_no\": \"SVZXCWC\",\n",
    "        \"region_category\": \"City\",\n",
    "        \"membership_category\": \"Basic Membership\",\n",
    "        \"joining_date\": \"2020-03-01\",\n",
    "        \"joined_through_referral\": \"Yes\",\n",
    "        \"referral_id\": \"CID35063\",\n",
    "        \"preferred_offer_types\": \"Gift Vouchers/Coupons\",\n",
    "        \"medium_of_operation\": \"Desktop\",\n",
    "        \"internet_option\": \"Wi-Fi\",\n",
    "        \"last_visit_time\": \"15:00:00\",\n",
    "        \"days_since_last_login\": 15,\n",
    "        \"avg_time_spent\": 400.80,\n",
    "        \"avg_transaction_value\": 25000.0,\n",
    "        \"avg_frequency_login_days\": 20.0,\n",
    "        \"points_in_wallet\": 500.90,\n",
    "        \"used_special_discount\": \"Yes\",\n",
    "        \"offer_application_preference\": \"Yes\",\n",
    "        \"past_complaint\": \"No\",\n",
    "        \"complaint_status\": \"Solved\",\n",
    "        \"feedback\": \"Too many ads\",\n",
    "        \"content\": \"Good product, but website was slow.\",\n",
    "        \"summary\": \"Good product, but website was slow.\",\n",
    "        \"sentiment\": 0\n",
    "    }\n",
    "]\n",
    "\n",
    "data = pd.DataFrame(data)\n",
    "print(data)"
   ]
  },
  {
   "cell_type": "code",
   "execution_count": 17,
   "metadata": {},
   "outputs": [
    {
     "name": "stderr",
     "output_type": "stream",
     "text": [
      "C:\\Users\\muham\\AppData\\Local\\Temp\\ipykernel_9056\\867192372.py:1: UserWarning: Could not infer format, so each element will be parsed individually, falling back to `dateutil`. To ensure parsing is consistent and as-expected, please specify a format.\n",
      "  data['last_visit_time'] = pd.to_datetime(data['last_visit_time'])\n"
     ]
    }
   ],
   "source": [
    "data['last_visit_time'] = pd.to_datetime(data['last_visit_time'])\n",
    "data['last_visit_time'] = data['last_visit_time'].dt.hour\n",
    "\n",
    "def categorize_time(hour):\n",
    "    if 0 <= hour < 6:\n",
    "        return 'Dini Hari'\n",
    "    elif 6 <= hour < 12:\n",
    "        return 'Pagi'\n",
    "    elif 12 <= hour < 3:\n",
    "        return 'Siang'\n",
    "    elif 3 <= hour < 6:\n",
    "        return 'Sore'\n",
    "    else:  \n",
    "        return 'Malam'\n",
    "    \n",
    "data['last_visit_time'] = data['last_visit_time'].apply(categorize_time)\n"
   ]
  },
  {
   "cell_type": "code",
   "execution_count": 18,
   "metadata": {},
   "outputs": [
    {
     "data": {
      "text/plain": [
       "array([5, 5, 5], dtype=int64)"
      ]
     },
     "execution_count": 18,
     "metadata": {},
     "output_type": "execute_result"
    }
   ],
   "source": [
    "prediksi = clf.predict(data)\n",
    "prediksi"
   ]
  }
 ],
 "metadata": {
  "kernelspec": {
   "display_name": "base",
   "language": "python",
   "name": "python3"
  },
  "language_info": {
   "codemirror_mode": {
    "name": "ipython",
    "version": 3
   },
   "file_extension": ".py",
   "mimetype": "text/x-python",
   "name": "python",
   "nbconvert_exporter": "python",
   "pygments_lexer": "ipython3",
   "version": "3.12.4"
  }
 },
 "nbformat": 4,
 "nbformat_minor": 2
}
